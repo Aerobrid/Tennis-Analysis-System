{
 "cells": [
  {
   "cell_type": "code",
   "execution_count": 1,
   "id": "3f84112a",
   "metadata": {},
   "outputs": [],
   "source": [
    "import pickle\n",
    "import pandas as pd\n",
    "import matplotlib.pyplot as plt"
   ]
  },
  {
   "cell_type": "code",
   "execution_count": 2,
   "id": "2846c2ca",
   "metadata": {},
   "outputs": [],
   "source": [
    "# read the pickle file\n",
    "with open('../tracker_stubs/ball_detections.pkl', 'rb') as f:\n",
    "    ball_positions = pickle.load(f)\n"
   ]
  },
  {
   "cell_type": "code",
   "execution_count": 4,
   "id": "0ee1bad4",
   "metadata": {},
   "outputs": [
    {
     "ename": "AttributeError",
     "evalue": "'list' object has no attribute 'get'",
     "output_type": "error",
     "traceback": [
      "\u001b[31m---------------------------------------------------------------------------\u001b[39m",
      "\u001b[31mAttributeError\u001b[39m                            Traceback (most recent call last)",
      "\u001b[36mCell\u001b[39m\u001b[36m \u001b[39m\u001b[32mIn[4]\u001b[39m\u001b[32m, line 1\u001b[39m\n\u001b[32m----> \u001b[39m\u001b[32m1\u001b[39m ball_positions = [\u001b[43mx\u001b[49m\u001b[43m.\u001b[49m\u001b[43mget\u001b[49m(\u001b[32m1\u001b[39m,[]) \u001b[38;5;28;01mfor\u001b[39;00m x \u001b[38;5;129;01min\u001b[39;00m ball_positions]\n\u001b[32m      2\u001b[39m \u001b[38;5;66;03m# convert the list into pandas dataframe\u001b[39;00m\n\u001b[32m      3\u001b[39m df_ball_positions = pd.DataFrame(ball_positions, columns=[\u001b[33m'\u001b[39m\u001b[33mx1\u001b[39m\u001b[33m'\u001b[39m,\u001b[33m'\u001b[39m\u001b[33my1\u001b[39m\u001b[33m'\u001b[39m,\u001b[33m'\u001b[39m\u001b[33mx2\u001b[39m\u001b[33m'\u001b[39m,\u001b[33m'\u001b[39m\u001b[33my2\u001b[39m\u001b[33m'\u001b[39m])\n",
      "\u001b[31mAttributeError\u001b[39m: 'list' object has no attribute 'get'"
     ]
    }
   ],
   "source": [
    "ball_positions = [x.get(1,[]) for x in ball_positions]\n",
    "# convert the list into pandas dataframe\n",
    "df_ball_positions = pd.DataFrame(ball_positions, columns=['x1','y1','x2','y2'])\n",
    "\n",
    "# interpolate the missing values\n",
    "df_ball_positions = df_ball_positions.interpolate()\n",
    "df_ball_positions = df_ball_positions.bfill()"
   ]
  },
  {
   "cell_type": "code",
   "execution_count": null,
   "id": "3d468192",
   "metadata": {},
   "outputs": [],
   "source": [
    "df_ball_positions['mid_y'] = (df_ball_positions['y1'] + df_ball_positions['y2']) / 2\n",
    "df_ball_positions['mid_y_rolling_mean'] = df_ball_positions['mid_y'].rolling(window = 5, min_periods=1, center=False).mean()"
   ]
  },
  {
   "cell_type": "code",
   "execution_count": null,
   "id": "121b3be2",
   "metadata": {},
   "outputs": [],
   "source": [
    "# plot mid_y_rolling_mean\n",
    "plt.plot(df_ball_positions['mid_y_rolling_mean'])"
   ]
  },
  {
   "cell_type": "code",
   "execution_count": null,
   "id": "ccb58147",
   "metadata": {},
   "outputs": [],
   "source": [
    "df_ball_positions['delta_y'] = df_ball_positions['mid_y_rolling_mean'].diff()"
   ]
  },
  {
   "cell_type": "code",
   "execution_count": null,
   "id": "3238e789",
   "metadata": {},
   "outputs": [],
   "source": [
    "\n",
    "# plot mid_y_rolling_mean\n",
    "plt.plot(df_ball_positions['delta_y'])"
   ]
  },
  {
   "cell_type": "code",
   "execution_count": null,
   "id": "0e4969ce",
   "metadata": {},
   "outputs": [],
   "source": [
    "df_ball_positions['ball_hit'] = 0\n"
   ]
  },
  {
   "cell_type": "code",
   "execution_count": null,
   "id": "318147ba",
   "metadata": {},
   "outputs": [],
   "source": [
    "minimum_change_frames_for_hit = 25\n",
    "for i in range(1,len(df_ball_positions)- int(minimum_change_frames_for_hit * 1.2) ):\n",
    "    negative_position_change = df_ball_positions['delta_y'].iloc[i] > 0 and df_ball_positions['delta_y'].iloc[i + 1] < 0\n",
    "    positive_position_change = df_ball_positions['delta_y'].iloc[i] < 0 and df_ball_positions['delta_y'].iloc[i + 1] > 0\n",
    "\n",
    "    if negative_position_change or positive_position_change:\n",
    "        change_count = 0 \n",
    "        for change_frame in range(i + 1, i + int(minimum_change_frames_for_hit * 1.2) + 1):\n",
    "            negative_position_change_following_frame = df_ball_positions['delta_y'].iloc[i] > 0 and df_ball_positions['delta_y'].iloc[change_frame] < 0\n",
    "            positive_position_change_following_frame = df_ball_positions['delta_y'].iloc[i] < 0 and df_ball_positions['delta_y'].iloc[change_frame] > 0\n",
    "\n",
    "            if negative_position_change and negative_position_change_following_frame:\n",
    "                change_count += 1\n",
    "            elif positive_position_change and positive_position_change_following_frame:\n",
    "                change_count += 1\n",
    "    \n",
    "        if change_count > minimum_change_frames_for_hit - 1:\n",
    "            df_ball_positions['ball_hit'].iloc[i] = 1\n",
    "\n",
    "frame_nums_with_ball_hits = df_ball_positions[df_ball_positions['ball_hit'] == 1].index.tolist()"
   ]
  },
  {
   "cell_type": "code",
   "execution_count": null,
   "id": "4b6095a6",
   "metadata": {},
   "outputs": [],
   "source": [
    "df_ball_positions[df_ball_positions['ball_hit'] == 1]\n"
   ]
  }
 ],
 "metadata": {
  "kernelspec": {
   "display_name": "cv_env",
   "language": "python",
   "name": "python3"
  },
  "language_info": {
   "codemirror_mode": {
    "name": "ipython",
    "version": 3
   },
   "file_extension": ".py",
   "mimetype": "text/x-python",
   "name": "python",
   "nbconvert_exporter": "python",
   "pygments_lexer": "ipython3",
   "version": "3.13.1"
  }
 },
 "nbformat": 4,
 "nbformat_minor": 5
}
